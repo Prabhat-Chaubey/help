{
 "cells": [
  {
   "cell_type": "code",
   "execution_count": 2,
   "id": "cfc15923",
   "metadata": {},
   "outputs": [
    {
     "name": "stdout",
     "output_type": "stream",
     "text": [
      "Enter the numbeer for iterative9\n",
      "0\n",
      "1\n",
      "1\n",
      "2\n",
      "3\n",
      "5\n",
      "8\n",
      "13\n",
      "21\n"
     ]
    }
   ],
   "source": [
    "#iterative\n",
    "a=0\n",
    "b=1\n",
    "n=int(input(\"Enter the numbeer for iterative\"))\n",
    "print(a)\n",
    "print(b)\n",
    "for i in range(2,n):\n",
    "    m=a+b\n",
    "    a=b\n",
    "    b=m\n",
    "    print(m)"
   ]
  },
  {
   "cell_type": "code",
   "execution_count": null,
   "id": "fc767d17",
   "metadata": {},
   "outputs": [],
   "source": [
    "#Recursive\n",
    "def fibonacci_series(n, a=0, b=1):\n",
    "    if n <= 0:\n",
    "        return []\n",
    "    elif n == 1:\n",
    "        return [a]\n",
    "    else:\n",
    "        return [a] + fibonacci_series(n - 1, b, a + b)\n",
    "\n",
    "# Example usage to print the first 10 Fibonacci numbers\n",
    "n = 10\n",
    "fib_series = fibonacci_series(n)\n",
    "print(\"Fibonacci Series:\")\n",
    "print(fib_series)\n",
    "\n",
    "    "
   ]
  },
  {
   "cell_type": "code",
   "execution_count": null,
   "id": "cc792624",
   "metadata": {},
   "outputs": [],
   "source": []
  }
 ],
 "metadata": {
  "kernelspec": {
   "display_name": "Python 3 (ipykernel)",
   "language": "python",
   "name": "python3"
  },
  "language_info": {
   "codemirror_mode": {
    "name": "ipython",
    "version": 3
   },
   "file_extension": ".py",
   "mimetype": "text/x-python",
   "name": "python",
   "nbconvert_exporter": "python",
   "pygments_lexer": "ipython3",
   "version": "3.9.13"
  }
 },
 "nbformat": 4,
 "nbformat_minor": 5
}
